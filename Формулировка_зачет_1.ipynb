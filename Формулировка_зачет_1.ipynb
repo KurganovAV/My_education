{
 "cells": [
  {
   "cell_type": "markdown",
   "metadata": {
    "id": "JmClc6I9c72H"
   },
   "source": [
    "Поиск истины в вине\n",
    "\n",
    "<img src=\"https://i.pinimg.com/originals/35/fd/2f/35fd2fdccb58c2250241113f12b55d14.jpg\" width=\"300\">\n",
    "\n",
    "\n",
    "**Предобработка данных**\n",
    "\n",
    "\t- Загрузите данные в Pandas DataFrame.\n",
    "\t- Посчитайте размерность данных (количество строк и стоблцов).\n",
    "\t- Посчитайте количество пропущенных значений в каждой переменной.\n",
    "\t- Выведите тип данных каждой переменной. Переконвертируйте при необходимости.\n",
    "    - Вина какой области (`province`) получают наилучшие рейтинги?\n",
    "\t- На основе словаря `color` оздайте переменную, в которой закодирован цвет вина (например, при помощи метода [`map`](https://pandas.pydata.org/pandas-docs/stable/generated/pandas.Series.map.html) или другого).\n",
    "    - Удалите наблюдения для которых цвет (`color`) не указан.\n",
    "\t- Визуализируйте распределения числовых переменных.\n",
    "\t- Для каждой страны рассчитайте долю каждого вида вина. В какой стране доля белого вина наибольшая, а в какой красного? (Нужен ответ вида: в стране А наибольшая доля белого вина, а в стране B — красного.\n",
    "\n",
    "\n",
    "\n",
    "**Указывайте в коде, какой пункт начали выполнять.**"
   ]
  },
  {
   "cell_type": "code",
   "execution_count": 1,
   "metadata": {
    "ExecuteTime": {
     "end_time": "2018-10-25T13:43:07.950659Z",
     "start_time": "2018-10-25T13:43:07.924387Z"
    },
    "id": "UU07JfbCc72O"
   },
   "outputs": [],
   "source": [
    "color = {\n",
    "    \"Chardonnay\": \"white\",\n",
    "    \"Pinot Noir\": \"red\",\n",
    "    \"Cabernet Sauvignon\": \"red\",\n",
    "    \"Red Blend\": \"red\",\n",
    "    \"Bordeaux-style Red Blend\": \"red\",\n",
    "    \"Sauvignon Blanc\": \"white\",\n",
    "    \"Syrah\": \"red\",\n",
    "    \"Riesling\": \"red\",\n",
    "    \"Merlot\": \"red\",\n",
    "    \"Zinfandel\": \"red\",\n",
    "    \"Sangiovese\": \"red\",\n",
    "    \"Malbec\": \"red\",\n",
    "    \"White Blend\": \"white\",\n",
    "    \"Rosé\": \"other\",\n",
    "    \"Tempranillo\": \"red\",\n",
    "    \"Nebbiolo\": \"red\",\n",
    "    \"Portuguese Red\": \"red\",\n",
    "    \"Sparkling Blend\": \"other\",\n",
    "    \"Shiraz\": \"red\",\n",
    "    \"Corvina, Rondinella, Molinara\": \"red\",\n",
    "    \"Rhône-style Red Blend\": \"red\",\n",
    "    \"Barbera\": \"red\",\n",
    "    \"Pinot Gris\": \"white\",\n",
    "    \"Viognier\": \"white\",\n",
    "    \"Bordeaux-style White Blend\": \"white\",\n",
    "    \"Champagne Blend\": \"other\",\n",
    "    \"Port\": \"red\",\n",
    "    \"Grüner Veltliner\": \"white\",\n",
    "    \"Gewürztraminer\": \"white\",\n",
    "    \"Portuguese White\": \"white\",\n",
    "    \"Petite Sirah\": \"red\",\n",
    "    \"Carmenère\": \"red\"\n",
    "}"
   ]
  },
  {
   "cell_type": "code",
   "execution_count": 30,
   "metadata": {
    "id": "voSm9Uksedo0"
   },
   "outputs": [],
   "source": [
    "import numpy as np\n",
    "import pandas as pd\n",
    "import matplotlib.pyplot as plt\n",
    "import seaborn as sns\n",
    "%matplotlib inline"
   ]
  },
  {
   "cell_type": "code",
   "execution_count": null,
   "metadata": {
    "colab": {
     "base_uri": "https://localhost:8080/",
     "height": 73
    },
    "id": "6iPCIQAuc72Q",
    "outputId": "2c242f0e-4b0c-4c5c-cbcf-26da4b2f0d54"
   },
   "outputs": [],
   "source": []
  },
  {
   "cell_type": "markdown",
   "metadata": {},
   "source": [
    "#  задание"
   ]
  },
  {
   "cell_type": "markdown",
   "metadata": {},
   "source": [
    "Загрузите данные в Pandas DataFrame."
   ]
  },
  {
   "cell_type": "code",
   "execution_count": 3,
   "metadata": {
    "id": "Ou4nPCXXc9ux"
   },
   "outputs": [],
   "source": [
    "\n",
    "df = pd.read_csv('wine_reviews.csv')"
   ]
  },
  {
   "cell_type": "code",
   "execution_count": 4,
   "metadata": {
    "colab": {
     "base_uri": "https://localhost:8080/",
     "height": 641
    },
    "id": "-PcRmsSwc95g",
    "outputId": "b6136471-351d-463a-8e7b-2259c823e86d"
   },
   "outputs": [
    {
     "data": {
      "text/html": [
       "<div>\n",
       "<style scoped>\n",
       "    .dataframe tbody tr th:only-of-type {\n",
       "        vertical-align: middle;\n",
       "    }\n",
       "\n",
       "    .dataframe tbody tr th {\n",
       "        vertical-align: top;\n",
       "    }\n",
       "\n",
       "    .dataframe thead th {\n",
       "        text-align: right;\n",
       "    }\n",
       "</style>\n",
       "<table border=\"1\" class=\"dataframe\">\n",
       "  <thead>\n",
       "    <tr style=\"text-align: right;\">\n",
       "      <th></th>\n",
       "      <th>country</th>\n",
       "      <th>description</th>\n",
       "      <th>designation</th>\n",
       "      <th>points</th>\n",
       "      <th>price</th>\n",
       "      <th>province</th>\n",
       "      <th>region_1</th>\n",
       "      <th>region_2</th>\n",
       "      <th>variety</th>\n",
       "      <th>winery</th>\n",
       "    </tr>\n",
       "  </thead>\n",
       "  <tbody>\n",
       "    <tr>\n",
       "      <th>0</th>\n",
       "      <td>US</td>\n",
       "      <td>With a delicate, silky mouthfeel and bright ac...</td>\n",
       "      <td>NaN</td>\n",
       "      <td>86</td>\n",
       "      <td>23.0</td>\n",
       "      <td>California</td>\n",
       "      <td>Central Coast</td>\n",
       "      <td>Central Coast</td>\n",
       "      <td>Pinot Noir</td>\n",
       "      <td>MacMurray Ranch</td>\n",
       "    </tr>\n",
       "    <tr>\n",
       "      <th>1</th>\n",
       "      <td>Italy</td>\n",
       "      <td>D'Alceo is a drop dead gorgeous wine that ooze...</td>\n",
       "      <td>D'Alceo</td>\n",
       "      <td>96</td>\n",
       "      <td>275.0</td>\n",
       "      <td>Tuscany</td>\n",
       "      <td>Toscana</td>\n",
       "      <td>NaN</td>\n",
       "      <td>Red Blend</td>\n",
       "      <td>Castello dei Rampolla</td>\n",
       "    </tr>\n",
       "    <tr>\n",
       "      <th>2</th>\n",
       "      <td>France</td>\n",
       "      <td>The great dominance of Cabernet Sauvignon in t...</td>\n",
       "      <td>NaN</td>\n",
       "      <td>91</td>\n",
       "      <td>40.0</td>\n",
       "      <td>Bordeaux</td>\n",
       "      <td>Haut-Médoc</td>\n",
       "      <td>NaN</td>\n",
       "      <td>Bordeaux-style Red Blend</td>\n",
       "      <td>Château Bernadotte</td>\n",
       "    </tr>\n",
       "    <tr>\n",
       "      <th>3</th>\n",
       "      <td>Italy</td>\n",
       "      <td>The modest cherry, dark berry and black tea no...</td>\n",
       "      <td>NaN</td>\n",
       "      <td>81</td>\n",
       "      <td>15.0</td>\n",
       "      <td>Tuscany</td>\n",
       "      <td>Chianti Classico</td>\n",
       "      <td>NaN</td>\n",
       "      <td>Sangiovese</td>\n",
       "      <td>Valiano</td>\n",
       "    </tr>\n",
       "    <tr>\n",
       "      <th>4</th>\n",
       "      <td>US</td>\n",
       "      <td>Exceedingly light in color, scent and flavor, ...</td>\n",
       "      <td>NaN</td>\n",
       "      <td>83</td>\n",
       "      <td>25.0</td>\n",
       "      <td>Oregon</td>\n",
       "      <td>Rogue Valley</td>\n",
       "      <td>Southern Oregon</td>\n",
       "      <td>Pinot Noir</td>\n",
       "      <td>Deer Creek</td>\n",
       "    </tr>\n",
       "  </tbody>\n",
       "</table>\n",
       "</div>"
      ],
      "text/plain": [
       "  country                                        description designation  \\\n",
       "0      US  With a delicate, silky mouthfeel and bright ac...         NaN   \n",
       "1   Italy  D'Alceo is a drop dead gorgeous wine that ooze...     D'Alceo   \n",
       "2  France  The great dominance of Cabernet Sauvignon in t...         NaN   \n",
       "3   Italy  The modest cherry, dark berry and black tea no...         NaN   \n",
       "4      US  Exceedingly light in color, scent and flavor, ...         NaN   \n",
       "\n",
       "   points  price    province          region_1         region_2  \\\n",
       "0      86   23.0  California     Central Coast    Central Coast   \n",
       "1      96  275.0     Tuscany           Toscana              NaN   \n",
       "2      91   40.0    Bordeaux        Haut-Médoc              NaN   \n",
       "3      81   15.0     Tuscany  Chianti Classico              NaN   \n",
       "4      83   25.0      Oregon      Rogue Valley  Southern Oregon   \n",
       "\n",
       "                    variety                 winery  \n",
       "0                Pinot Noir        MacMurray Ranch  \n",
       "1                 Red Blend  Castello dei Rampolla  \n",
       "2  Bordeaux-style Red Blend     Château Bernadotte  \n",
       "3                Sangiovese                Valiano  \n",
       "4                Pinot Noir             Deer Creek  "
      ]
     },
     "execution_count": 4,
     "metadata": {},
     "output_type": "execute_result"
    }
   ],
   "source": [
    "df.head()"
   ]
  },
  {
   "cell_type": "markdown",
   "metadata": {},
   "source": [
    "#  задание"
   ]
  },
  {
   "cell_type": "markdown",
   "metadata": {},
   "source": [
    "Посчитайте размерность данных (количество строк и стоблцов)."
   ]
  },
  {
   "cell_type": "code",
   "execution_count": 5,
   "metadata": {
    "id": "7LZjLdgJerUY"
   },
   "outputs": [
    {
     "name": "stdout",
     "output_type": "stream",
     "text": [
      "Строк: 20000\n",
      "Столбцов: 10\n"
     ]
    }
   ],
   "source": [
    "\n",
    "print('Строк:',df.shape[0])\n",
    "print('Столбцов:',df.shape[1])"
   ]
  },
  {
   "cell_type": "markdown",
   "metadata": {},
   "source": [
    "#  задание"
   ]
  },
  {
   "cell_type": "markdown",
   "metadata": {},
   "source": [
    "Посчитайте количество пропущенных значений в каждой переменной."
   ]
  },
  {
   "cell_type": "code",
   "execution_count": 6,
   "metadata": {},
   "outputs": [
    {
     "data": {
      "text/plain": [
       "country            0\n",
       "description        0\n",
       "designation     6001\n",
       "points             0\n",
       "price           1802\n",
       "province           0\n",
       "region_1        3457\n",
       "region_2       11942\n",
       "variety            0\n",
       "winery             0\n",
       "dtype: int64"
      ]
     },
     "execution_count": 6,
     "metadata": {},
     "output_type": "execute_result"
    }
   ],
   "source": [
    "\n",
    "df.isna().sum()"
   ]
  },
  {
   "cell_type": "markdown",
   "metadata": {},
   "source": [
    "#  задание"
   ]
  },
  {
   "cell_type": "markdown",
   "metadata": {},
   "source": [
    "Выведите тип данных каждой переменной. Переконвертируйте при необходимости."
   ]
  },
  {
   "cell_type": "code",
   "execution_count": 7,
   "metadata": {},
   "outputs": [
    {
     "name": "stdout",
     "output_type": "stream",
     "text": [
      "<class 'pandas.core.frame.DataFrame'>\n",
      "RangeIndex: 20000 entries, 0 to 19999\n",
      "Data columns (total 10 columns):\n",
      " #   Column       Non-Null Count  Dtype  \n",
      "---  ------       --------------  -----  \n",
      " 0   country      20000 non-null  object \n",
      " 1   description  20000 non-null  object \n",
      " 2   designation  13999 non-null  object \n",
      " 3   points       20000 non-null  int64  \n",
      " 4   price        18198 non-null  float64\n",
      " 5   province     20000 non-null  object \n",
      " 6   region_1     16543 non-null  object \n",
      " 7   region_2     8058 non-null   object \n",
      " 8   variety      20000 non-null  object \n",
      " 9   winery       20000 non-null  object \n",
      "dtypes: float64(1), int64(1), object(8)\n",
      "memory usage: 1.5+ MB\n"
     ]
    }
   ],
   "source": [
    "\n",
    "df.info()"
   ]
  },
  {
   "cell_type": "markdown",
   "metadata": {},
   "source": [
    "#  задание"
   ]
  },
  {
   "cell_type": "markdown",
   "metadata": {},
   "source": [
    "Вина какой области (`province`) получают наилучшие рейтинги?"
   ]
  },
  {
   "cell_type": "code",
   "execution_count": 8,
   "metadata": {},
   "outputs": [
    {
     "data": {
      "text/plain": [
       "province\n",
       "Martinborough Terrace    93.000000\n",
       "Minho                    92.000000\n",
       "Eisenberg                92.000000\n",
       "Tokaji                   91.600000\n",
       "Traisental               91.250000\n",
       "Lebanon                  91.000000\n",
       "Santa Cruz               91.000000\n",
       "Wachau                   90.980769\n",
       "Waiheke Island           90.666667\n",
       "Champagne                90.508287\n",
       "Name: points, dtype: float64"
      ]
     },
     "execution_count": 8,
     "metadata": {},
     "output_type": "execute_result"
    }
   ],
   "source": [
    "\n",
    "df2 = df.groupby('province').points.mean()\n",
    "df2.sort_values(ascending=False).head(10)\n"
   ]
  },
  {
   "cell_type": "markdown",
   "metadata": {},
   "source": [
    "#  задание"
   ]
  },
  {
   "cell_type": "markdown",
   "metadata": {},
   "source": [
    "На основе словаря `color` оздайте переменную, в которой закодирован цвет вина (например, при помощи метода \n",
    "[`map`](https://pandas.pydata.org/pandas-docs/stable/generated/pandas.Series.map.html) или другого)."
   ]
  },
  {
   "cell_type": "code",
   "execution_count": 9,
   "metadata": {},
   "outputs": [],
   "source": [
    "\n",
    "df['color_code'] = df['variety'].replace(color)"
   ]
  },
  {
   "cell_type": "code",
   "execution_count": 10,
   "metadata": {},
   "outputs": [
    {
     "data": {
      "text/html": [
       "<div>\n",
       "<style scoped>\n",
       "    .dataframe tbody tr th:only-of-type {\n",
       "        vertical-align: middle;\n",
       "    }\n",
       "\n",
       "    .dataframe tbody tr th {\n",
       "        vertical-align: top;\n",
       "    }\n",
       "\n",
       "    .dataframe thead th {\n",
       "        text-align: right;\n",
       "    }\n",
       "</style>\n",
       "<table border=\"1\" class=\"dataframe\">\n",
       "  <thead>\n",
       "    <tr style=\"text-align: right;\">\n",
       "      <th></th>\n",
       "      <th>country</th>\n",
       "      <th>description</th>\n",
       "      <th>designation</th>\n",
       "      <th>points</th>\n",
       "      <th>price</th>\n",
       "      <th>province</th>\n",
       "      <th>region_1</th>\n",
       "      <th>region_2</th>\n",
       "      <th>variety</th>\n",
       "      <th>winery</th>\n",
       "      <th>color_code</th>\n",
       "    </tr>\n",
       "  </thead>\n",
       "  <tbody>\n",
       "    <tr>\n",
       "      <th>0</th>\n",
       "      <td>US</td>\n",
       "      <td>With a delicate, silky mouthfeel and bright ac...</td>\n",
       "      <td>NaN</td>\n",
       "      <td>86</td>\n",
       "      <td>23.0</td>\n",
       "      <td>California</td>\n",
       "      <td>Central Coast</td>\n",
       "      <td>Central Coast</td>\n",
       "      <td>Pinot Noir</td>\n",
       "      <td>MacMurray Ranch</td>\n",
       "      <td>red</td>\n",
       "    </tr>\n",
       "    <tr>\n",
       "      <th>1</th>\n",
       "      <td>Italy</td>\n",
       "      <td>D'Alceo is a drop dead gorgeous wine that ooze...</td>\n",
       "      <td>D'Alceo</td>\n",
       "      <td>96</td>\n",
       "      <td>275.0</td>\n",
       "      <td>Tuscany</td>\n",
       "      <td>Toscana</td>\n",
       "      <td>NaN</td>\n",
       "      <td>Red Blend</td>\n",
       "      <td>Castello dei Rampolla</td>\n",
       "      <td>red</td>\n",
       "    </tr>\n",
       "    <tr>\n",
       "      <th>2</th>\n",
       "      <td>France</td>\n",
       "      <td>The great dominance of Cabernet Sauvignon in t...</td>\n",
       "      <td>NaN</td>\n",
       "      <td>91</td>\n",
       "      <td>40.0</td>\n",
       "      <td>Bordeaux</td>\n",
       "      <td>Haut-Médoc</td>\n",
       "      <td>NaN</td>\n",
       "      <td>Bordeaux-style Red Blend</td>\n",
       "      <td>Château Bernadotte</td>\n",
       "      <td>red</td>\n",
       "    </tr>\n",
       "    <tr>\n",
       "      <th>3</th>\n",
       "      <td>Italy</td>\n",
       "      <td>The modest cherry, dark berry and black tea no...</td>\n",
       "      <td>NaN</td>\n",
       "      <td>81</td>\n",
       "      <td>15.0</td>\n",
       "      <td>Tuscany</td>\n",
       "      <td>Chianti Classico</td>\n",
       "      <td>NaN</td>\n",
       "      <td>Sangiovese</td>\n",
       "      <td>Valiano</td>\n",
       "      <td>red</td>\n",
       "    </tr>\n",
       "    <tr>\n",
       "      <th>4</th>\n",
       "      <td>US</td>\n",
       "      <td>Exceedingly light in color, scent and flavor, ...</td>\n",
       "      <td>NaN</td>\n",
       "      <td>83</td>\n",
       "      <td>25.0</td>\n",
       "      <td>Oregon</td>\n",
       "      <td>Rogue Valley</td>\n",
       "      <td>Southern Oregon</td>\n",
       "      <td>Pinot Noir</td>\n",
       "      <td>Deer Creek</td>\n",
       "      <td>red</td>\n",
       "    </tr>\n",
       "  </tbody>\n",
       "</table>\n",
       "</div>"
      ],
      "text/plain": [
       "  country                                        description designation  \\\n",
       "0      US  With a delicate, silky mouthfeel and bright ac...         NaN   \n",
       "1   Italy  D'Alceo is a drop dead gorgeous wine that ooze...     D'Alceo   \n",
       "2  France  The great dominance of Cabernet Sauvignon in t...         NaN   \n",
       "3   Italy  The modest cherry, dark berry and black tea no...         NaN   \n",
       "4      US  Exceedingly light in color, scent and flavor, ...         NaN   \n",
       "\n",
       "   points  price    province          region_1         region_2  \\\n",
       "0      86   23.0  California     Central Coast    Central Coast   \n",
       "1      96  275.0     Tuscany           Toscana              NaN   \n",
       "2      91   40.0    Bordeaux        Haut-Médoc              NaN   \n",
       "3      81   15.0     Tuscany  Chianti Classico              NaN   \n",
       "4      83   25.0      Oregon      Rogue Valley  Southern Oregon   \n",
       "\n",
       "                    variety                 winery color_code  \n",
       "0                Pinot Noir        MacMurray Ranch        red  \n",
       "1                 Red Blend  Castello dei Rampolla        red  \n",
       "2  Bordeaux-style Red Blend     Château Bernadotte        red  \n",
       "3                Sangiovese                Valiano        red  \n",
       "4                Pinot Noir             Deer Creek        red  "
      ]
     },
     "execution_count": 10,
     "metadata": {},
     "output_type": "execute_result"
    }
   ],
   "source": [
    "df.head()"
   ]
  },
  {
   "cell_type": "markdown",
   "metadata": {},
   "source": [
    "#  Задание"
   ]
  },
  {
   "cell_type": "markdown",
   "metadata": {},
   "source": [
    "Удалите наблюдения для которых цвет (`color`) не указан."
   ]
  },
  {
   "cell_type": "code",
   "execution_count": 11,
   "metadata": {},
   "outputs": [
    {
     "data": {
      "text/plain": [
       "color_code\n",
       "red                  11588\n",
       "white                 4037\n",
       "other                  874\n",
       "Sangiovese Grosso      198\n",
       "Cabernet Franc         180\n",
       "                     ...  \n",
       "Schiava                  1\n",
       "Merlot-Shiraz            1\n",
       "White Port               1\n",
       "Meoru                    1\n",
       "Mansois                  1\n",
       "Name: count, Length: 391, dtype: int64"
      ]
     },
     "execution_count": 11,
     "metadata": {},
     "output_type": "execute_result"
    }
   ],
   "source": [
    "\n",
    "df['color_code'].value_counts()"
   ]
  },
  {
   "cell_type": "code",
   "execution_count": 12,
   "metadata": {},
   "outputs": [],
   "source": [
    "colors = ['red','white','other']\n",
    "df = df[df['color_code'].isin(colors)]"
   ]
  },
  {
   "cell_type": "code",
   "execution_count": 13,
   "metadata": {},
   "outputs": [
    {
     "data": {
      "text/plain": [
       "color_code\n",
       "red      11588\n",
       "white     4037\n",
       "other      874\n",
       "Name: count, dtype: int64"
      ]
     },
     "execution_count": 13,
     "metadata": {},
     "output_type": "execute_result"
    }
   ],
   "source": [
    "df['color_code'].value_counts()"
   ]
  },
  {
   "cell_type": "markdown",
   "metadata": {},
   "source": [
    "#  задание"
   ]
  },
  {
   "cell_type": "markdown",
   "metadata": {},
   "source": [
    "Визуализируйте распределения числовых переменных."
   ]
  },
  {
   "cell_type": "code",
   "execution_count": 64,
   "metadata": {},
   "outputs": [
    {
     "data": {
      "image/png": "[encoded data removed]",
      "text/plain": [
       "<Figure size 640x480 with 1 Axes>"
      ]
     },
     "metadata": {},
     "output_type": "display_data"
    }
   ],
   "source": [
    "\n",
    "plt.bar(df['points'],df['price'])\n",
    "plt.title('График зависимости цены от рейтинга')\n",
    "plt.xlabel('Рейтинг')\n",
    "plt.ylabel('Цена')\n",
    "plt.show()"
   ]
  },
  {
   "cell_type": "markdown",
   "metadata": {},
   "source": [
    "#  Задание"
   ]
  },
  {
   "cell_type": "markdown",
   "metadata": {},
   "source": [
    "Для каждой страны рассчитайте долю каждого вида вина. В какой стране доля белого вина наибольшая, а в какой красного? \n",
    "(Нужен ответ вида: в стране А наибольшая доля белого вина, а в стране B — красного."
   ]
  },
  {
   "cell_type": "code",
   "execution_count": 65,
   "metadata": {},
   "outputs": [
    {
     "name": "stdout",
     "output_type": "stream",
     "text": [
      "country\n",
      "Argentina         red\n",
      "Australia         red\n",
      "Austria         white\n",
      "Brazil          other\n",
      "Bulgaria          red\n",
      "Canada            red\n",
      "Chile             red\n",
      "China           white\n",
      "Croatia         white\n",
      "Cyprus            red\n",
      "France            red\n",
      "Georgia         white\n",
      "Germany           red\n",
      "Greece            red\n",
      "Hungary           red\n",
      "Israel            red\n",
      "Italy             red\n",
      "Lebanon         white\n",
      "Luxembourg        red\n",
      "Mexico            red\n",
      "Moldova           red\n",
      "New Zealand     white\n",
      "Portugal          red\n",
      "Romania           red\n",
      "Slovenia          red\n",
      "South Africa      red\n",
      "Spain             red\n",
      "Switzerland       red\n",
      "Turkey            red\n",
      "US                red\n",
      "US-France       white\n",
      "Ukraine         other\n",
      "Uruguay           red\n",
      "dtype: object\n"
     ]
    }
   ],
   "source": [
    "result = df.groupby(['country', 'color_code']).size().unstack(fill_value=0).idxmax(axis=1)\n",
    "\n",
    "print(result)"
   ]
  },
  {
   "cell_type": "code",
   "execution_count": null,
   "metadata": {},
   "outputs": [],
   "source": []
  }
 ],
 "metadata": {
  "colab": {
   "provenance": []
  },
  "kernelspec": {
   "display_name": "Python 3 (ipykernel)",
   "language": "python",
   "name": "python3"
  },
  "language_info": {
   "codemirror_mode": {
    "name": "ipython",
    "version": 3
   },
   "file_extension": ".py",
   "mimetype": "text/x-python",
   "name": "python",
   "nbconvert_exporter": "python",
   "pygments_lexer": "ipython3",
   "version": "3.11.7"
  },
  "toc": {
   "nav_menu": {},
   "number_sections": true,
   "sideBar": true,
   "skip_h1_title": false,
   "toc_cell": false,
   "toc_position": {},
   "toc_section_display": "block",
   "toc_window_display": false
  },
  "varInspector": {
   "cols": {
    "lenName": 16,
    "lenType": 16,
    "lenVar": 40
   },
   "kernels_config": {
    "python": {
     "delete_cmd_postfix": "",
     "delete_cmd_prefix": "del ",
     "library": "var_list.py",
     "varRefreshCmd": "print(var_dic_list())"
    },
    "r": {
     "delete_cmd_postfix": ") ",
     "delete_cmd_prefix": "rm(",
     "library": "var_list.r",
     "varRefreshCmd": "cat(var_dic_list()) "
    }
   },
   "types_to_exclude": [
    "module",
    "function",
    "builtin_function_or_method",
    "instance",
    "_Feature"
   ],
   "window_display": false
  }
 },
 "nbformat": 4,
 "nbformat_minor": 4
}
